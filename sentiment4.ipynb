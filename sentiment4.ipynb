{
  "nbformat": 4,
  "nbformat_minor": 0,
  "metadata": {
    "colab": {
      "name": "sentiment4.ipynb",
      "provenance": [],
      "collapsed_sections": [],
      "include_colab_link": true
    },
    "kernelspec": {
      "name": "python3",
      "display_name": "Python 3"
    }
  },
  "cells": [
    {
      "cell_type": "markdown",
      "metadata": {
        "id": "view-in-github",
        "colab_type": "text"
      },
      "source": [
        "<a href=\"https://colab.research.google.com/github/priebet/sentiment/blob/master/sentiment4.ipynb\" target=\"_parent\"><img src=\"https://colab.research.google.com/assets/colab-badge.svg\" alt=\"Open In Colab\"/></a>"
      ]
    },
    {
      "cell_type": "markdown",
      "metadata": {
        "id": "XDUYYSNTiGMA",
        "colab_type": "text"
      },
      "source": [
        "# Twitter-Sentimentanalyse Teil 4\n",
        "## Anwenden des NN-Modells auf die Brexit-Tweets "
      ]
    },
    {
      "cell_type": "code",
      "metadata": {
        "id": "kTc19RwhiFCl",
        "colab_type": "code",
        "colab": {}
      },
      "source": [
        "# Mount Google Drive for easy and fast read/write access to data folder \n",
        "#from google.colab import drive\n",
        "#drive.mount('/content/drive')\n",
        "#datapath = \"/content/drive/My Drive/Colab Notebooks/data/\""
      ],
      "execution_count": 0,
      "outputs": []
    },
    {
      "cell_type": "code",
      "metadata": {
        "id": "gyQjZ8FCSSM3",
        "colab_type": "code",
        "colab": {}
      },
      "source": [
        "# For demonstration purposes, pull data from webserver instead\n",
        "datapath = \"http://priebe.onl/data/\""
      ],
      "execution_count": 0,
      "outputs": []
    },
    {
      "cell_type": "code",
      "metadata": {
        "id": "XS6U-bPwlvdI",
        "colab_type": "code",
        "outputId": "6bd96205-5d89-4037-881e-cb8a71a93a47",
        "colab": {
          "base_uri": "https://localhost:8080/",
          "height": 195
        }
      },
      "source": [
        "import pandas as pd  \n",
        "\n",
        "# Load cleaned Brexit tweets from CSV file\n",
        "df = pd.read_csv(datapath+\"brexit_cleaned.csv\")\n",
        "df.head()"
      ],
      "execution_count": 0,
      "outputs": [
        {
          "output_type": "execute_result",
          "data": {
            "text/html": [
              "<div>\n",
              "<style scoped>\n",
              "    .dataframe tbody tr th:only-of-type {\n",
              "        vertical-align: middle;\n",
              "    }\n",
              "\n",
              "    .dataframe tbody tr th {\n",
              "        vertical-align: top;\n",
              "    }\n",
              "\n",
              "    .dataframe thead th {\n",
              "        text-align: right;\n",
              "    }\n",
              "</style>\n",
              "<table border=\"1\" class=\"dataframe\">\n",
              "  <thead>\n",
              "    <tr style=\"text-align: right;\">\n",
              "      <th></th>\n",
              "      <th>text</th>\n",
              "      <th>id</th>\n",
              "      <th>created</th>\n",
              "      <th>hashtags</th>\n",
              "    </tr>\n",
              "  </thead>\n",
              "  <tbody>\n",
              "    <tr>\n",
              "      <th>0</th>\n",
              "      <td>those who died to protect democracy will be ro...</td>\n",
              "      <td>736284933686239233</td>\n",
              "      <td>2016-05-27T19:56:22</td>\n",
              "      <td>brexit</td>\n",
              "    </tr>\n",
              "    <tr>\n",
              "      <th>1</th>\n",
              "      <td>this top swears if bollocks is good enough for...</td>\n",
              "      <td>736284905710211073</td>\n",
              "      <td>2016-05-27T19:56:15</td>\n",
              "      <td>euref|strongerin|brexit|brexin</td>\n",
              "    </tr>\n",
              "    <tr>\n",
              "      <th>2</th>\n",
              "      <td>dont the scots understand that joining the lea...</td>\n",
              "      <td>736284877084065792</td>\n",
              "      <td>2016-05-27T19:56:08</td>\n",
              "      <td>brexit|voteremain|voteleave</td>\n",
              "    </tr>\n",
              "    <tr>\n",
              "      <th>3</th>\n",
              "      <td>the vision from enslaved brexit shut the door ...</td>\n",
              "      <td>736284846151106563</td>\n",
              "      <td>2016-05-27T19:56:01</td>\n",
              "      <td>brexit</td>\n",
              "    </tr>\n",
              "    <tr>\n",
              "      <th>4</th>\n",
              "      <td>it is not all about gdp and jobs we will adapt...</td>\n",
              "      <td>736284840992092160</td>\n",
              "      <td>2016-05-27T19:56:00</td>\n",
              "      <td>brexit|euref</td>\n",
              "    </tr>\n",
              "  </tbody>\n",
              "</table>\n",
              "</div>"
            ],
            "text/plain": [
              "                                                text  ...                        hashtags\n",
              "0  those who died to protect democracy will be ro...  ...                          brexit\n",
              "1  this top swears if bollocks is good enough for...  ...  euref|strongerin|brexit|brexin\n",
              "2  dont the scots understand that joining the lea...  ...     brexit|voteremain|voteleave\n",
              "3  the vision from enslaved brexit shut the door ...  ...                          brexit\n",
              "4  it is not all about gdp and jobs we will adapt...  ...                    brexit|euref\n",
              "\n",
              "[5 rows x 4 columns]"
            ]
          },
          "metadata": {
            "tags": []
          },
          "execution_count": 17
        }
      ]
    },
    {
      "cell_type": "code",
      "metadata": {
        "id": "JijTrPSRhvjW",
        "colab_type": "code",
        "colab": {}
      },
      "source": [
        "from joblib import dump, load\n",
        "from urllib.request import urlopen\n",
        "\n",
        "# Load TF-IDF vectorizer (urlopen needed when taking from webserver)\n",
        "#tvec = load(datapath+\"tvec.pkl\") \n",
        "tvec = load(urlopen(datapath+\"tvec.pkl\")) "
      ],
      "execution_count": 0,
      "outputs": []
    },
    {
      "cell_type": "code",
      "metadata": {
        "id": "RCnCAHI4muv2",
        "colab_type": "code",
        "colab": {}
      },
      "source": [
        "%tensorflow_version 1.x\n",
        "from keras.models import load_model\n",
        "\n",
        "# Load Keras model (urlopen needed when taking from webserver)\n",
        "#model = load_model(datapath+\"model.h5\")\n",
        "model = load_model(urlopen(datapath+\"model.h5\"))"
      ],
      "execution_count": 0,
      "outputs": []
    },
    {
      "cell_type": "code",
      "metadata": {
        "id": "k0a-qy8Vl45c",
        "colab_type": "code",
        "colab": {}
      },
      "source": [
        "x_predict = df['text']\n",
        "x_predict_tfidf = tvec.transform(x_predict)"
      ],
      "execution_count": 0,
      "outputs": []
    },
    {
      "cell_type": "code",
      "metadata": {
        "id": "2oBFQ7EHncfh",
        "colab_type": "code",
        "outputId": "70e1d662-1dda-4d5c-9843-7a7120647f8f",
        "colab": {
          "base_uri": "https://localhost:8080/",
          "height": 34
        }
      },
      "source": [
        "# Apply model and calculate sentiment\n",
        "y_predict = model.predict(x_predict_tfidf, batch_size=128, verbose=1)"
      ],
      "execution_count": 0,
      "outputs": [
        {
          "output_type": "stream",
          "text": [
            "865549/865549 [==============================] - 500s 578us/step\n"
          ],
          "name": "stdout"
        }
      ]
    },
    {
      "cell_type": "code",
      "metadata": {
        "id": "mMisgFy1psKy",
        "colab_type": "code",
        "outputId": "ca7425eb-fc9f-49f0-a52b-096f3ccffe40",
        "colab": {
          "base_uri": "https://localhost:8080/",
          "height": 195
        }
      },
      "source": [
        "df_predict = pd.DataFrame(y_predict,columns=['sentiment'])\n",
        "df_predict['id'] = df['id']\n",
        "df_predict['created'] = df['created']\n",
        "df_predict['hashtags'] = df['hashtags']\n",
        "\n",
        "df_predict.head()"
      ],
      "execution_count": 0,
      "outputs": [
        {
          "output_type": "execute_result",
          "data": {
            "text/html": [
              "<div>\n",
              "<style scoped>\n",
              "    .dataframe tbody tr th:only-of-type {\n",
              "        vertical-align: middle;\n",
              "    }\n",
              "\n",
              "    .dataframe tbody tr th {\n",
              "        vertical-align: top;\n",
              "    }\n",
              "\n",
              "    .dataframe thead th {\n",
              "        text-align: right;\n",
              "    }\n",
              "</style>\n",
              "<table border=\"1\" class=\"dataframe\">\n",
              "  <thead>\n",
              "    <tr style=\"text-align: right;\">\n",
              "      <th></th>\n",
              "      <th>sentiment</th>\n",
              "      <th>id</th>\n",
              "      <th>created</th>\n",
              "      <th>hashtags</th>\n",
              "    </tr>\n",
              "  </thead>\n",
              "  <tbody>\n",
              "    <tr>\n",
              "      <th>0</th>\n",
              "      <td>0.235443</td>\n",
              "      <td>736284933686239233</td>\n",
              "      <td>2016-05-27T19:56:22</td>\n",
              "      <td>brexit</td>\n",
              "    </tr>\n",
              "    <tr>\n",
              "      <th>1</th>\n",
              "      <td>0.978828</td>\n",
              "      <td>736284905710211073</td>\n",
              "      <td>2016-05-27T19:56:15</td>\n",
              "      <td>euref|strongerin|brexit|brexin</td>\n",
              "    </tr>\n",
              "    <tr>\n",
              "      <th>2</th>\n",
              "      <td>0.767239</td>\n",
              "      <td>736284877084065792</td>\n",
              "      <td>2016-05-27T19:56:08</td>\n",
              "      <td>brexit|voteremain|voteleave</td>\n",
              "    </tr>\n",
              "    <tr>\n",
              "      <th>3</th>\n",
              "      <td>0.430086</td>\n",
              "      <td>736284846151106563</td>\n",
              "      <td>2016-05-27T19:56:01</td>\n",
              "      <td>brexit</td>\n",
              "    </tr>\n",
              "    <tr>\n",
              "      <th>4</th>\n",
              "      <td>0.795538</td>\n",
              "      <td>736284840992092160</td>\n",
              "      <td>2016-05-27T19:56:00</td>\n",
              "      <td>brexit|euref</td>\n",
              "    </tr>\n",
              "  </tbody>\n",
              "</table>\n",
              "</div>"
            ],
            "text/plain": [
              "   sentiment  ...                        hashtags\n",
              "0   0.235443  ...                          brexit\n",
              "1   0.978828  ...  euref|strongerin|brexit|brexin\n",
              "2   0.767239  ...     brexit|voteremain|voteleave\n",
              "3   0.430086  ...                          brexit\n",
              "4   0.795538  ...                    brexit|euref\n",
              "\n",
              "[5 rows x 4 columns]"
            ]
          },
          "metadata": {
            "tags": []
          },
          "execution_count": 8
        }
      ]
    },
    {
      "cell_type": "code",
      "metadata": {
        "id": "GrHFyJqH110N",
        "colab_type": "code",
        "outputId": "4755237f-8171-4d45-cbff-f3b602063880",
        "colab": {
          "base_uri": "https://localhost:8080/",
          "height": 175
        }
      },
      "source": [
        "# Store resulting dataset with sentiment to CSV file, does not apply when\n",
        "# using webserver storage\n",
        "#df_predict.to_csv(datapath+'brexit_sentiment.csv',encoding='utf-8',index=False)\n",
        "df_predict.info()"
      ],
      "execution_count": 0,
      "outputs": [
        {
          "output_type": "stream",
          "text": [
            "<class 'pandas.core.frame.DataFrame'>\n",
            "RangeIndex: 865549 entries, 0 to 865548\n",
            "Data columns (total 4 columns):\n",
            "sentiment    865549 non-null float32\n",
            "id           865549 non-null int64\n",
            "created      865549 non-null object\n",
            "hashtags     865549 non-null object\n",
            "dtypes: float32(1), int64(1), object(2)\n",
            "memory usage: 23.1+ MB\n"
          ],
          "name": "stdout"
        }
      ]
    }
  ]
}