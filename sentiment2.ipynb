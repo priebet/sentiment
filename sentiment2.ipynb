{
  "nbformat": 4,
  "nbformat_minor": 0,
  "metadata": {
    "colab": {
      "name": "sentiment2.ipynb",
      "provenance": [],
      "collapsed_sections": [],
      "machine_shape": "hm",
      "include_colab_link": true
    },
    "kernelspec": {
      "name": "python3",
      "display_name": "Python 3"
    }
  },
  "cells": [
    {
      "cell_type": "markdown",
      "metadata": {
        "id": "view-in-github",
        "colab_type": "text"
      },
      "source": [
        "<a href=\"https://colab.research.google.com/github/priebet/sentiment/blob/master/sentiment2.ipynb\" target=\"_parent\"><img src=\"https://colab.research.google.com/assets/colab-badge.svg\" alt=\"Open In Colab\"/></a>"
      ]
    },
    {
      "cell_type": "markdown",
      "metadata": {
        "id": "bSFRkSLBSRIZ",
        "colab_type": "text"
      },
      "source": [
        "# Twitter-Sentimentanalyse Teil 2\n",
        "## Erlernen eines NN-Klassifikators mit Kera und TensorFlow"
      ]
    },
    {
      "cell_type": "code",
      "metadata": {
        "id": "GFf7mxFHOTaI",
        "colab_type": "code",
        "colab": {}
      },
      "source": [
        "## Mount Google Drive for easy and fast read/write access to data folder \n",
        "#from google.colab import drive\n",
        "#drive.mount('/content/drive')\n",
        "#datapath = \"/content/drive/My Drive/Colab Notebooks/data/\""
      ],
      "execution_count": 0,
      "outputs": []
    },
    {
      "cell_type": "code",
      "metadata": {
        "id": "sukQTBehOum_",
        "colab_type": "code",
        "colab": {}
      },
      "source": [
        "# For demonstration purposes, pull data from webserver instead\n",
        "datapath = \"http://priebe.onl/data/\""
      ],
      "execution_count": 0,
      "outputs": []
    },
    {
      "cell_type": "code",
      "metadata": {
        "id": "XmG6B57YSC9m",
        "colab_type": "code",
        "outputId": "50dd1743-756a-4e07-febf-c2fb46787912",
        "colab": {
          "base_uri": "https://localhost:8080/",
          "height": 195
        }
      },
      "source": [
        "import pandas as pd  \n",
        "\n",
        "df = pd.read_csv(datapath+\"training_cleaned.csv\")\n",
        "df.head()"
      ],
      "execution_count": 2,
      "outputs": [
        {
          "output_type": "execute_result",
          "data": {
            "text/html": [
              "<div>\n",
              "<style scoped>\n",
              "    .dataframe tbody tr th:only-of-type {\n",
              "        vertical-align: middle;\n",
              "    }\n",
              "\n",
              "    .dataframe tbody tr th {\n",
              "        vertical-align: top;\n",
              "    }\n",
              "\n",
              "    .dataframe thead th {\n",
              "        text-align: right;\n",
              "    }\n",
              "</style>\n",
              "<table border=\"1\" class=\"dataframe\">\n",
              "  <thead>\n",
              "    <tr style=\"text-align: right;\">\n",
              "      <th></th>\n",
              "      <th>text</th>\n",
              "      <th>sentiment</th>\n",
              "    </tr>\n",
              "  </thead>\n",
              "  <tbody>\n",
              "    <tr>\n",
              "      <th>0</th>\n",
              "      <td>awww that bummer you shoulda got david carr of...</td>\n",
              "      <td>0</td>\n",
              "    </tr>\n",
              "    <tr>\n",
              "      <th>1</th>\n",
              "      <td>is upset that he can not update his facebook b...</td>\n",
              "      <td>0</td>\n",
              "    </tr>\n",
              "    <tr>\n",
              "      <th>2</th>\n",
              "      <td>dived many times for the ball managed to save ...</td>\n",
              "      <td>0</td>\n",
              "    </tr>\n",
              "    <tr>\n",
              "      <th>3</th>\n",
              "      <td>my whole body feels itchy and like its on fire</td>\n",
              "      <td>0</td>\n",
              "    </tr>\n",
              "    <tr>\n",
              "      <th>4</th>\n",
              "      <td>no it not behaving at all mad why am here beca...</td>\n",
              "      <td>0</td>\n",
              "    </tr>\n",
              "  </tbody>\n",
              "</table>\n",
              "</div>"
            ],
            "text/plain": [
              "                                                text  sentiment\n",
              "0  awww that bummer you shoulda got david carr of...          0\n",
              "1  is upset that he can not update his facebook b...          0\n",
              "2  dived many times for the ball managed to save ...          0\n",
              "3     my whole body feels itchy and like its on fire          0\n",
              "4  no it not behaving at all mad why am here beca...          0"
            ]
          },
          "metadata": {
            "tags": []
          },
          "execution_count": 2
        }
      ]
    },
    {
      "cell_type": "code",
      "metadata": {
        "id": "VY_iFq1aVIS3",
        "colab_type": "code",
        "outputId": "1dcae0f7-8000-4853-b992-9d3a2ba2af92",
        "colab": {
          "base_uri": "https://localhost:8080/",
          "height": 70
        }
      },
      "source": [
        "from sklearn.model_selection import train_test_split\n",
        "seed = 2000\n",
        "\n",
        "x = df['text']\n",
        "y = df['sentiment']\n",
        "\n",
        "## Use only 1% sample for demonstration purposes\n",
        "#_, x, _, y = train_test_split(x, y, test_size=.01, random_state=seed)\n",
        "\n",
        "x_train, x_validation_test, y_train, y_validation_test = train_test_split(x, y, test_size=.02, random_state=seed)\n",
        "x_validation, x_test, y_validation, y_test = train_test_split(x_validation_test, y_validation_test, test_size=.5, random_state=seed)\n",
        "\n",
        "print(\"Train set has total {0} entries with {1:.2f}% negative, {2:.2f}% positive\".format(len(x_train),\n",
        "                                                                                         (len(x_train[y_train == 0]) / (len(x_train)*1.))*100,\n",
        "                                                                                         (len(x_train[y_train == 1]) / (len(x_train)*1.))*100))\n",
        "print(\"Validation set has total {0} entries with {1:.2f}% negative, {2:.2f}% positive\".format(len(x_validation),\n",
        "                                                                                              (len(x_validation[y_validation == 0]) / (len(x_validation)*1.))*100,\n",
        "                                                                                              (len(x_validation[y_validation == 1]) / (len(x_validation)*1.))*100))\n",
        "print(\"Test set has total {0} entries with {1:.2f}% negative, {2:.2f}% positive\".format(len(x_test),\n",
        "                                                                                        (len(x_test[y_test == 0]) / (len(x_test)*1.))*100,\n",
        "                                                                                        (len(x_test[y_test == 1]) / (len(x_test)*1.))*100))"
      ],
      "execution_count": 3,
      "outputs": [
        {
          "output_type": "stream",
          "text": [
            "Train set has total 1564120 entries with 50.02% negative, 49.98% positive\n",
            "Validation set has total 15960 entries with 49.45% negative, 50.55% positive\n",
            "Test set has total 15961 entries with 49.68% negative, 50.32% positive\n"
          ],
          "name": "stdout"
        }
      ]
    },
    {
      "cell_type": "code",
      "metadata": {
        "id": "eVtaoofuWdwc",
        "colab_type": "code",
        "outputId": "0fcb52e6-7b46-4235-ccb3-f6f42730e781",
        "colab": {
          "base_uri": "https://localhost:8080/",
          "height": 158
        }
      },
      "source": [
        "from sklearn.feature_extraction.text import TfidfVectorizer\n",
        "tvec = TfidfVectorizer(max_features=100000,ngram_range=(1, 3))\n",
        "tvec.fit(x_train)"
      ],
      "execution_count": 4,
      "outputs": [
        {
          "output_type": "execute_result",
          "data": {
            "text/plain": [
              "TfidfVectorizer(analyzer='word', binary=False, decode_error='strict',\n",
              "                dtype=<class 'numpy.float64'>, encoding='utf-8',\n",
              "                input='content', lowercase=True, max_df=1.0,\n",
              "                max_features=100000, min_df=1, ngram_range=(1, 3), norm='l2',\n",
              "                preprocessor=None, smooth_idf=True, stop_words=None,\n",
              "                strip_accents=None, sublinear_tf=False,\n",
              "                token_pattern='(?u)\\\\b\\\\w\\\\w+\\\\b', tokenizer=None, use_idf=True,\n",
              "                vocabulary=None)"
            ]
          },
          "metadata": {
            "tags": []
          },
          "execution_count": 4
        }
      ]
    },
    {
      "cell_type": "code",
      "metadata": {
        "id": "yc3eYfgNWkDi",
        "colab_type": "code",
        "colab": {}
      },
      "source": [
        "x_train_tfidf = tvec.transform(x_train)\n",
        "x_validation_tfidf = tvec.transform(x_validation)\n",
        "x_test_tfidf = tvec.transform(x_test)"
      ],
      "execution_count": 0,
      "outputs": []
    },
    {
      "cell_type": "code",
      "metadata": {
        "id": "KXzS4WcvWx1o",
        "colab_type": "code",
        "colab": {}
      },
      "source": [
        "%tensorflow_version 1.x\n",
        "from keras.models import Sequential\n",
        "from keras.layers import Dense"
      ],
      "execution_count": 0,
      "outputs": []
    },
    {
      "cell_type": "code",
      "metadata": {
        "id": "DPGbr7vKXAmi",
        "colab_type": "code",
        "outputId": "58b19965-f712-4dde-8e7b-34739f413d50",
        "colab": {
          "base_uri": "https://localhost:8080/",
          "height": 246
        }
      },
      "source": [
        "%%time\n",
        "model = Sequential()\n",
        "model.add(Dense(64, activation='relu', input_dim=100000))\n",
        "model.add(Dense(1, activation='sigmoid'))\n",
        "model.compile(optimizer='adam', loss='binary_crossentropy', metrics=['accuracy'])\n",
        "\n",
        "model.fit(x_train_tfidf, y_train, epochs=5, validation_data=(x_validation_tfidf, y_validation), batch_size=1024)"
      ],
      "execution_count": 0,
      "outputs": [
        {
          "output_type": "stream",
          "text": [
            "Train on 1564120 samples, validate on 15960 samples\n",
            "Epoch 1/5\n",
            "1564120/1564120 [==============================] - 1205s 770us/step - loss: 0.4224 - acc: 0.8122 - val_loss: 0.3897 - val_acc: 0.8254\n",
            "Epoch 2/5\n",
            "1564120/1564120 [==============================] - 1124s 718us/step - loss: 0.3687 - acc: 0.8357 - val_loss: 0.3848 - val_acc: 0.8289\n",
            "Epoch 3/5\n",
            "1564120/1564120 [==============================] - 1122s 717us/step - loss: 0.3491 - acc: 0.8447 - val_loss: 0.3869 - val_acc: 0.8292\n",
            "Epoch 4/5\n",
            "1564120/1564120 [==============================] - 1122s 717us/step - loss: 0.3326 - acc: 0.8527 - val_loss: 0.3932 - val_acc: 0.8283\n",
            "Epoch 5/5\n",
            "1564120/1564120 [==============================] - 1122s 717us/step - loss: 0.3163 - acc: 0.8616 - val_loss: 0.4038 - val_acc: 0.8278\n",
            "CPU times: user 4h 3min 9s, sys: 1min 58s, total: 4h 5min 8s\n",
            "Wall time: 1h 34min 54s\n"
          ],
          "name": "stdout"
        }
      ]
    },
    {
      "cell_type": "code",
      "metadata": {
        "id": "BRHP4ochG2n3",
        "colab_type": "code",
        "outputId": "4647642f-e0a6-4103-fcb5-200a83aecf09",
        "colab": {
          "base_uri": "https://localhost:8080/",
          "height": 52
        }
      },
      "source": [
        "results = model.evaluate(x_test_tfidf, y_test, batch_size=128)\n",
        "print('test loss, test acc:', results)"
      ],
      "execution_count": 0,
      "outputs": [
        {
          "output_type": "stream",
          "text": [
            "15961/15961 [==============================] - 9s 571us/step\n",
            "test loss, test acc: [0.41018261473531836, 0.8207505794741383]\n"
          ],
          "name": "stdout"
        }
      ]
    },
    {
      "cell_type": "code",
      "metadata": {
        "id": "4M_N9fIOaDSN",
        "colab_type": "code",
        "colab": {}
      },
      "source": [
        "from joblib import dump, load\n",
        "\n",
        "#dump(tvec, datapath+\"tvec.pkl\")\n",
        "#model.save(datapath+\"model.h5\")"
      ],
      "execution_count": 0,
      "outputs": []
    }
  ]
}