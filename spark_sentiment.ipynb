{
 "cells": [
  {
   "cell_type": "markdown",
   "metadata": {},
   "source": [
    "# Twitter-Sentimentanalyse"
   ]
  },
  {
   "cell_type": "code",
   "execution_count": 1,
   "metadata": {
    "collapsed": false
   },
   "outputs": [
    {
     "data": {
      "text/plain": [
       "[['awww that bummer you shoulda got david carr of third day to do it', '0'],\n",
       " ['is upset that he can not update his facebook by texting it and might cry as result school today also blah',\n",
       "  '0'],\n",
       " ['dived many times for the ball managed to save the rest go out of bounds',\n",
       "  '0'],\n",
       " ['my whole body feels itchy and like its on fire', '0'],\n",
       " ['no it not behaving at all mad why am here because can not see you all over there',\n",
       "  '0']]"
      ]
     },
     "execution_count": 1,
     "metadata": {},
     "output_type": "execute_result"
    }
   ],
   "source": [
    "# Load (pre-cleaned) Sentiment140 training data set\n",
    "rdd = sc.textFile(\"/user/cloudera/sentiment/training_cleaned.csv\")\n",
    "\n",
    "header = rdd.first()\n",
    "rdd = rdd.filter(lambda line: line != header)\n",
    "rdd = rdd.map(lambda line: line.split(\",\"))\n",
    "rdd.take(5)"
   ]
  },
  {
   "cell_type": "code",
   "execution_count": 2,
   "metadata": {
    "collapsed": false
   },
   "outputs": [
    {
     "name": "stdout",
     "output_type": "stream",
     "text": [
      "+--------------------+---------+-----+\n",
      "|                text|sentiment|label|\n",
      "+--------------------+---------+-----+\n",
      "|awww that bummer ...|        0|  0.0|\n",
      "|is upset that he ...|        0|  0.0|\n",
      "|dived many times ...|        0|  0.0|\n",
      "|my whole body fee...|        0|  0.0|\n",
      "|no it not behavin...|        0|  0.0|\n",
      "+--------------------+---------+-----+\n",
      "only showing top 5 rows\n",
      "\n"
     ]
    }
   ],
   "source": [
    "# Convert to Spark dataframe\n",
    "from pyspark.sql.types import *\n",
    "\n",
    "schema = StructType([\n",
    "    StructField(\"text\", StringType(), False), \n",
    "    StructField(\"sentiment\", StringType(), False) \n",
    "    ])\n",
    "df = sqlContext.createDataFrame(rdd, schema)\n",
    "df = df.withColumn(\"label\", df['sentiment'].cast(DoubleType()))\n",
    "df.show(5)"
   ]
  },
  {
   "cell_type": "code",
   "execution_count": 3,
   "metadata": {
    "collapsed": false
   },
   "outputs": [
    {
     "name": "stdout",
     "output_type": "stream",
     "text": [
      "+--------------------+---------+-----+--------------------+--------------------+--------------------+\n",
      "|                text|sentiment|label|               words|         rawFeatures|            features|\n",
      "+--------------------+---------+-----+--------------------+--------------------+--------------------+\n",
      "|awww that bummer ...|        0|  0.0|[awww, that, bumm...|(100000,[2540,321...|(100000,[2540,321...|\n",
      "|is upset that he ...|        0|  0.0|[is, upset, that,...|(100000,[2311,312...|(100000,[2311,312...|\n",
      "|dived many times ...|        0|  0.0|[dived, many, tim...|(100000,[1577,330...|(100000,[1577,330...|\n",
      "|my whole body fee...|        0|  0.0|[my, whole, body,...|(100000,[3500,355...|(100000,[3500,355...|\n",
      "|no it not behavin...|        0|  0.0|[no, it, not, beh...|(100000,[3116,312...|(100000,[3116,312...|\n",
      "+--------------------+---------+-----+--------------------+--------------------+--------------------+\n",
      "only showing top 5 rows\n",
      "\n"
     ]
    }
   ],
   "source": [
    "# Prepare training data using TF-IDF encoding\n",
    "from pyspark.ml.feature import HashingTF, IDF, Tokenizer\n",
    "\n",
    "tokenizer = Tokenizer(inputCol=\"text\", outputCol=\"words\")\n",
    "wordsData = tokenizer.transform(df)\n",
    "hashingTF = HashingTF(inputCol=\"words\", outputCol=\"rawFeatures\", numFeatures=100000)\n",
    "featurizedData = hashingTF.transform(wordsData)\n",
    "idf = IDF(inputCol=\"rawFeatures\", outputCol=\"features\")\n",
    "idfModel = idf.fit(featurizedData)\n",
    "rescaledData = idfModel.transform(featurizedData)\n",
    "rescaledData.show(5)"
   ]
  },
  {
   "cell_type": "code",
   "execution_count": 4,
   "metadata": {
    "collapsed": false
   },
   "outputs": [
    {
     "name": "stdout",
     "output_type": "stream",
     "text": [
      "[Row(rawFeatures=SparseVector(100000, {2540: 1.0, 3211: 1.0, 3371: 1.0, 3543: 1.0, 3707: 1.0, 7894: 1.0, 19839: 1.0, 31239: 1.0, 43278: 1.0, 46174: 1.0, 58580: 1.0, 58823: 1.0, 96672: 1.0, 99228: 1.0}))]\n",
      "[Row(features=SparseVector(100000, {2540: 3.2873, 3211: 2.6964, 3371: 1.8062, 3543: 2.2371, 3707: 1.248, 7894: 6.6653, 19839: 1.876, 31239: 7.5145, 43278: 7.8091, 46174: 9.4389, 58580: 6.512, 58823: 2.3332, 96672: 6.9312, 99228: 2.9399}))]\n"
     ]
    }
   ],
   "source": [
    "print(rescaledData.select('rawFeatures').take(1))\n",
    "print(rescaledData.select('features').take(1))"
   ]
  },
  {
   "cell_type": "code",
   "execution_count": 5,
   "metadata": {
    "collapsed": true
   },
   "outputs": [],
   "source": [
    "# Split into training and test dataset\n",
    "[trainingData, testData] = rescaledData.randomSplit([0.95, 0.05], seed = 2000)"
   ]
  },
  {
   "cell_type": "code",
   "execution_count": 6,
   "metadata": {
    "collapsed": false
   },
   "outputs": [],
   "source": [
    "# Model using classic logistic regression\n",
    "from pyspark.ml.classification import LogisticRegression\n",
    "\n",
    "lr = LogisticRegression()\n",
    "\n",
    "# Fit the model\n",
    "lrModel = lr.fit(trainingData)"
   ]
  },
  {
   "cell_type": "code",
   "execution_count": 7,
   "metadata": {
    "collapsed": false
   },
   "outputs": [
    {
     "name": "stderr",
     "output_type": "stream",
     "text": [
      "/usr/lib/spark/python/pyspark/ml/classification.py:207: UserWarning: weights is deprecated. Use coefficients instead.\n",
      "  warnings.warn(\"weights is deprecated. Use coefficients instead.\")\n"
     ]
    },
    {
     "name": "stdout",
     "output_type": "stream",
     "text": [
      "+--------------------+---------+-----+--------------------+--------------------+--------------------+--------------------+--------------------+----------+\n",
      "|                text|sentiment|label|               words|         rawFeatures|            features|       rawPrediction|         probability|prediction|\n",
      "+--------------------+---------+-----+--------------------+--------------------+--------------------+--------------------+--------------------+----------+\n",
      "|aa woo gutted tha...|        0|  0.0|[aa, woo, gutted,...|(100000,[3104,330...|(100000,[3104,330...|[1.11526984554556...|[0.75311026763160...|       0.0|\n",
      "|    aaaa miss ya too|        0|  0.0|[aaaa, miss, ya, ...|(100000,[3848,150...|(100000,[3848,150...|[0.85075674508374...|[0.70072586292736...|       0.0|\n",
      "|aaaaaa god can th...|        0|  0.0|[aaaaaa, god, can...|(100000,[571,1407...|(100000,[571,1407...|[1.81140526942755...|[0.85953162803086...|       0.0|\n",
      "|aaaaaa my belly t...|        0|  0.0|[aaaaaa, my, bell...|(100000,[3500,212...|(100000,[3500,212...|[1.69002918661943...|[0.84422799816206...|       0.0|\n",
      "|aaaaaa see you ar...|        1|  1.0|[aaaaaa, see, you...|(100000,[3370,370...|(100000,[3370,370...|[-0.0991919651095...|[0.47522232111866...|       1.0|\n",
      "+--------------------+---------+-----+--------------------+--------------------+--------------------+--------------------+--------------------+----------+\n",
      "only showing top 5 rows\n",
      "\n"
     ]
    }
   ],
   "source": [
    "# Apply model to test dataset\n",
    "testPredictions = lrModel.transform(testData)\n",
    "testPredictions.show(5)"
   ]
  },
  {
   "cell_type": "code",
   "execution_count": 8,
   "metadata": {
    "collapsed": false
   },
   "outputs": [
    {
     "name": "stdout",
     "output_type": "stream",
     "text": [
      "Test Accuracy = 0.787099 \n"
     ]
    }
   ],
   "source": [
    "# Compute accuracy on test data\n",
    "from pyspark.ml.evaluation import MulticlassClassificationEvaluator\n",
    "\n",
    "evaluator = MulticlassClassificationEvaluator(\n",
    "    labelCol=\"label\", predictionCol=\"prediction\", metricName=\"precision\")\n",
    "accuracy = evaluator.evaluate(testPredictions)\n",
    "print(\"Test Accuracy = %g \" % accuracy)"
   ]
  },
  {
   "cell_type": "code",
   "execution_count": 9,
   "metadata": {
    "collapsed": false
   },
   "outputs": [],
   "source": [
    "# Retrain model on full dataset\n",
    "lrModel = lr.fit(rescaledData)"
   ]
  },
  {
   "cell_type": "code",
   "execution_count": 10,
   "metadata": {
    "collapsed": false
   },
   "outputs": [
    {
     "data": {
      "text/plain": [
       "[['those who died to protect democracy will be rolling in their graves vote brexit',\n",
       "  '736284933686239233',\n",
       "  '2016-05-27T19:56:22',\n",
       "  'brexit'],\n",
       " ['this top swears if bollocks is good enough for angela eagle euref strongerin brexit brexin',\n",
       "  '736284905710211073',\n",
       "  '2016-05-27T19:56:15',\n",
       "  'euref|strongerin|brexit|brexin'],\n",
       " ['dont the scots understand that joining the leaveeu side will give them more freedom than they have now brexit voteremain voteleave',\n",
       "  '736284877084065792',\n",
       "  '2016-05-27T19:56:08',\n",
       "  'brexit|voteremain|voteleave'],\n",
       " ['the vision from enslaved brexit shut the door on europe the uk will become impoverished but it will be pure',\n",
       "  '736284846151106563',\n",
       "  '2016-05-27T19:56:01',\n",
       "  'brexit'],\n",
       " ['it is not all about gdp and jobs we will adapt have the balls for brexit euref me happy via',\n",
       "  '736284840992092160',\n",
       "  '2016-05-27T19:56:00',\n",
       "  'brexit|euref']]"
      ]
     },
     "execution_count": 10,
     "metadata": {},
     "output_type": "execute_result"
    }
   ],
   "source": [
    "# Load (pre-cleaned) Brexit dataset\n",
    "rdd = sc.textFile(\"/user/cloudera/sentiment/brexit_cleaned.csv\")\n",
    "\n",
    "header = rdd.first()\n",
    "rdd = rdd.filter(lambda line: line != header)\n",
    "rdd = rdd.map(lambda line: line.split(\",\"))\n",
    "rdd.take(5)"
   ]
  },
  {
   "cell_type": "code",
   "execution_count": 11,
   "metadata": {
    "collapsed": false
   },
   "outputs": [
    {
     "name": "stdout",
     "output_type": "stream",
     "text": [
      "+--------------------+------------------+-------------------+--------------------+\n",
      "|                text|                id|            created|            hashtags|\n",
      "+--------------------+------------------+-------------------+--------------------+\n",
      "|those who died to...|736284933686239233|2016-05-27T19:56:22|              brexit|\n",
      "|this top swears i...|736284905710211073|2016-05-27T19:56:15|euref|strongerin|...|\n",
      "|dont the scots un...|736284877084065792|2016-05-27T19:56:08|brexit|voteremain...|\n",
      "|the vision from e...|736284846151106563|2016-05-27T19:56:01|              brexit|\n",
      "|it is not all abo...|736284840992092160|2016-05-27T19:56:00|        brexit|euref|\n",
      "+--------------------+------------------+-------------------+--------------------+\n",
      "only showing top 5 rows\n",
      "\n"
     ]
    }
   ],
   "source": [
    "# Convert to Spark dataframe\n",
    "brexitSchema = StructType([\n",
    "    StructField(\"text\", StringType(), False), \n",
    "    StructField(\"id\", StringType(), False),\n",
    "    StructField(\"created\", StringType(), False),\n",
    "    StructField(\"hashtags\", StringType(), False)\n",
    "    ])\n",
    "brexitData = sqlContext.createDataFrame(rdd, brexitSchema)\n",
    "brexitData.show(5)"
   ]
  },
  {
   "cell_type": "code",
   "execution_count": 12,
   "metadata": {
    "collapsed": false
   },
   "outputs": [
    {
     "name": "stdout",
     "output_type": "stream",
     "text": [
      "+--------------------+------------------+-------------------+--------------------+--------------------+--------------------+--------------------+\n",
      "|                text|                id|            created|            hashtags|               words|         rawFeatures|            features|\n",
      "+--------------------+------------------+-------------------+--------------------+--------------------+--------------------+--------------------+\n",
      "|those who died to...|736284933686239233|2016-05-27T19:56:22|              brexit|[those, who, died...|(100000,[2405,313...|(100000,[2405,313...|\n",
      "|this top swears i...|736284905710211073|2016-05-27T19:56:15|euref|strongerin|...|[this, top, swear...|(100000,[1577,335...|(100000,[1577,335...|\n",
      "|dont the scots un...|736284877084065792|2016-05-27T19:56:08|brexit|voteremain...|[dont, the, scots...|(100000,[2326,927...|(100000,[2326,927...|\n",
      "|the vision from e...|736284846151106563|2016-05-27T19:56:01|              brexit|[the, vision, fro...|(100000,[3139,337...|(100000,[3139,337...|\n",
      "|it is not all abo...|736284840992092160|2016-05-27T19:56:00|        brexit|euref|[it, is, not, all...|(100000,[1577,203...|(100000,[1577,203...|\n",
      "+--------------------+------------------+-------------------+--------------------+--------------------+--------------------+--------------------+\n",
      "only showing top 5 rows\n",
      "\n"
     ]
    }
   ],
   "source": [
    "# Encode Brexit dataset using TF-IDF\n",
    "brexitWordsData = tokenizer.transform(brexitData)\n",
    "brexitFeaturizedData = hashingTF.transform(brexitWordsData)\n",
    "brexitRescaledData = idfModel.transform(brexitFeaturizedData)\n",
    "brexitRescaledData.show(5)"
   ]
  },
  {
   "cell_type": "code",
   "execution_count": 13,
   "metadata": {
    "collapsed": false
   },
   "outputs": [
    {
     "name": "stderr",
     "output_type": "stream",
     "text": [
      "/usr/lib/spark/python/pyspark/ml/classification.py:207: UserWarning: weights is deprecated. Use coefficients instead.\n",
      "  warnings.warn(\"weights is deprecated. Use coefficients instead.\")\n"
     ]
    },
    {
     "name": "stdout",
     "output_type": "stream",
     "text": [
      "+--------------------+------------------+-------------------+--------------------+--------------------+--------------------+--------------------+--------------------+--------------------+----------+\n",
      "|                text|                id|            created|            hashtags|               words|         rawFeatures|            features|       rawPrediction|         probability|prediction|\n",
      "+--------------------+------------------+-------------------+--------------------+--------------------+--------------------+--------------------+--------------------+--------------------+----------+\n",
      "|those who died to...|736284933686239233|2016-05-27T19:56:22|              brexit|[those, who, died...|(100000,[2405,313...|(100000,[2405,313...|[-0.3488333104539...|[0.41366536881981...|       1.0|\n",
      "|this top swears i...|736284905710211073|2016-05-27T19:56:15|euref|strongerin|...|[this, top, swear...|(100000,[1577,335...|(100000,[1577,335...|[-1.5834556844937...|[0.17030662944834...|       1.0|\n",
      "|dont the scots un...|736284877084065792|2016-05-27T19:56:08|brexit|voteremain...|[dont, the, scots...|(100000,[2326,927...|(100000,[2326,927...|[-1.0209330151910...|[0.26484570033259...|       1.0|\n",
      "|the vision from e...|736284846151106563|2016-05-27T19:56:01|              brexit|[the, vision, fro...|(100000,[3139,337...|(100000,[3139,337...|[-0.4367880266269...|[0.39250658377701...|       1.0|\n",
      "|it is not all abo...|736284840992092160|2016-05-27T19:56:00|        brexit|euref|[it, is, not, all...|(100000,[1577,203...|(100000,[1577,203...|[-0.4701965780470...|[0.38456971727689...|       1.0|\n",
      "+--------------------+------------------+-------------------+--------------------+--------------------+--------------------+--------------------+--------------------+--------------------+----------+\n",
      "only showing top 5 rows\n",
      "\n"
     ]
    }
   ],
   "source": [
    "# Apply model to Brexit data\n",
    "brexitPredictions = lrModel.transform(brexitRescaledData)\n",
    "brexitPredictions.show(5)"
   ]
  },
  {
   "cell_type": "code",
   "execution_count": 14,
   "metadata": {
    "collapsed": false
   },
   "outputs": [
    {
     "name": "stdout",
     "output_type": "stream",
     "text": [
      "+------------------+--------------------+----------+--------------------+\n",
      "|                id|             created| sentiment|            hashtags|\n",
      "+------------------+--------------------+----------+--------------------+\n",
      "|736284933686239233|2016-05-27 19:56:...|0.58633465|              brexit|\n",
      "|736284905710211073|2016-05-27 19:56:...| 0.8296934|euref|strongerin|...|\n",
      "|736284877084065792|2016-05-27 19:56:...| 0.7351543|brexit|voteremain...|\n",
      "|736284846151106563|2016-05-27 19:56:...| 0.6074934|              brexit|\n",
      "|736284840992092160|2016-05-27 19:56:...| 0.6154303|        brexit|euref|\n",
      "+------------------+--------------------+----------+--------------------+\n",
      "only showing top 5 rows\n",
      "\n"
     ]
    }
   ],
   "source": [
    "# Extract probability of positive sentiment\n",
    "from pyspark.sql.functions import udf\n",
    "\n",
    "brexitPredictions = brexitPredictions.withColumn(\"created\", brexitPredictions['created'].cast(TimestampType()))\n",
    "\n",
    "secondelement = udf(lambda v:float(v[1]),FloatType())\n",
    "brexitSentiment = brexitPredictions.select('id', 'created', secondelement('probability'), 'hashtags')\n",
    "brexitSentiment = brexitSentiment.withColumnRenamed(brexitSentiment.schema.names[2], 'sentiment')\n",
    "brexitSentiment.show(5)"
   ]
  },
  {
   "cell_type": "code",
   "execution_count": 15,
   "metadata": {
    "collapsed": false
   },
   "outputs": [
    {
     "name": "stdout",
     "output_type": "stream",
     "text": [
      "+------------+------------------+\n",
      "|created_date|         sentiment|\n",
      "+------------+------------------+\n",
      "|  2016-05-27|0.6159360325863231|\n",
      "|  2016-05-28|0.6387453854432409|\n",
      "|  2016-05-29|0.6235638685225119|\n",
      "|  2016-05-30|0.6252476165017263|\n",
      "|  2016-05-31| 0.611434574877216|\n",
      "+------------+------------------+\n",
      "only showing top 5 rows\n",
      "\n"
     ]
    }
   ],
   "source": [
    "# Prepare for visualization using Spark SQL\n",
    "brexitSentiment.registerTempTable('brexit_sentiment2')\n",
    "brexitSentiment.cache()\n",
    "df1 = sqlContext.sql(\"SELECT to_date(created) created_date, avg(sentiment) sentiment FROM brexit_sentiment2 GROUP BY to_date(created)\")\n",
    "df1.show(5)"
   ]
  },
  {
   "cell_type": "code",
   "execution_count": 16,
   "metadata": {
    "collapsed": false
   },
   "outputs": [
    {
     "name": "stdout",
     "output_type": "stream",
     "text": [
      "Total number of tweets is 31 entries\n"
     ]
    },
    {
     "data": {
      "text/plain": [
       "[<matplotlib.lines.Line2D at 0x7f0c04d8ca20>]"
      ]
     },
     "execution_count": 16,
     "metadata": {},
     "output_type": "execute_result"
    },
    {
     "data": {
      "image/png": "[encoded data removed]",
      "text/plain": [
       "<matplotlib.figure.Figure at 0x7f0c071e7eb8>"
      ]
     },
     "metadata": {},
     "output_type": "display_data"
    }
   ],
   "source": [
    "import pandas as pd\n",
    "import matplotlib.pyplot as plt\n",
    "%matplotlib inline\n",
    "\n",
    "df2 = df1.toPandas()\n",
    "df2['created_date'] = pd.to_datetime(df2['created_date'])\n",
    "\n",
    "print(\"Total number of tweets is {0} entries\".format(len(df2)))\n",
    "plt.figure(figsize=(20,5))\n",
    "plt.plot_date(df2['created_date'], df2['sentiment'], fmt='-')"
   ]
  },
  {
   "cell_type": "code",
   "execution_count": 17,
   "metadata": {
    "collapsed": false
   },
   "outputs": [],
   "source": [
    "# Extract only tweets with \"Leave\" hashtags\n",
    "sql = (\"SELECT to_date(created) created_date, avg(sentiment) sentiment FROM brexit_sentiment2 \"\n",
    "       \"WHERE (hashtags like '%leave%' OR hashtags like '%takecontrol%' or hashtags like '%voteout%') \"\n",
    "       \"AND NOT (hashtags like '%remain%' OR hashtags like '%strongerin%' or hashtags like '%votein%') \"\n",
    "       \"GROUP BY to_date(created)\")\n",
    "dfLeave = sqlContext.sql(sql)\n",
    "dfLeave2 = dfLeave.toPandas()"
   ]
  },
  {
   "cell_type": "code",
   "execution_count": 18,
   "metadata": {
    "collapsed": false
   },
   "outputs": [],
   "source": [
    "# Extract only tweets with \"Remain\" hashtags \n",
    "sql = (\"SELECT to_date(created) created_date, avg(sentiment) sentiment FROM brexit_sentiment2 \"\n",
    "       \"WHERE (hashtags like '%remain%' OR hashtags like '%strongerin%' or hashtags like '%votein%') \"\n",
    "       \"AND NOT (hashtags like '%leave%' OR hashtags like '%takecontrol%' or hashtags like '%voteout%') \"\n",
    "       \"GROUP BY to_date(created)\")\n",
    "dfRemain = sqlContext.sql(sql)\n",
    "dfRemain2 = dfRemain.toPandas()"
   ]
  },
  {
   "cell_type": "code",
   "execution_count": 19,
   "metadata": {
    "collapsed": false
   },
   "outputs": [
    {
     "data": {
      "text/plain": [
       "[<matplotlib.lines.Line2D at 0x7f0c04a65ba8>]"
      ]
     },
     "execution_count": 19,
     "metadata": {},
     "output_type": "execute_result"
    },
    {
     "data": {
      "image/png": "[encoded data removed]",
      "text/plain": [
       "<matplotlib.figure.Figure at 0x7f0c04d4d1d0>"
      ]
     },
     "metadata": {},
     "output_type": "display_data"
    }
   ],
   "source": [
    "plt.figure(figsize=(20,5))\n",
    "plt.plot_date(dfLeave2['created_date'], dfLeave2['sentiment'], fmt='-', color='red')\n",
    "plt.plot_date(dfRemain2['created_date'], dfRemain2['sentiment'], fmt='-', color='blue')"
   ]
  },
  {
   "cell_type": "code",
   "execution_count": null,
   "metadata": {
    "collapsed": true
   },
   "outputs": [],
   "source": []
  }
 ],
 "metadata": {
  "kernelspec": {
   "display_name": "Python 3",
   "language": "python",
   "name": "python3"
  },
  "language_info": {
   "codemirror_mode": {
    "name": "ipython",
    "version": 3
   },
   "file_extension": ".py",
   "mimetype": "text/x-python",
   "name": "python",
   "nbconvert_exporter": "python",
   "pygments_lexer": "ipython3",
   "version": "3.5.4"
  }
 },
 "nbformat": 4,
 "nbformat_minor": 0
}
