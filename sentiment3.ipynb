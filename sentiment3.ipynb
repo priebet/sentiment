{
  "nbformat": 4,
  "nbformat_minor": 0,
  "metadata": {
    "colab": {
      "name": "sentiment3.ipynb",
      "provenance": [],
      "collapsed_sections": [],
      "include_colab_link": true
    },
    "kernelspec": {
      "name": "python3",
      "display_name": "Python 3"
    }
  },
  "cells": [
    {
      "cell_type": "markdown",
      "metadata": {
        "id": "view-in-github",
        "colab_type": "text"
      },
      "source": [
        "<a href=\"https://colab.research.google.com/github/priebet/sentiment/blob/master/sentiment3.ipynb\" target=\"_parent\"><img src=\"https://colab.research.google.com/assets/colab-badge.svg\" alt=\"Open In Colab\"/></a>"
      ]
    },
    {
      "cell_type": "markdown",
      "metadata": {
        "id": "orNvNUzt1cNm",
        "colab_type": "text"
      },
      "source": [
        "# Twitter-Sentimentanalyse Teil 3\n",
        "## Vorverarbeitung von Tweets im Umfeld des Brexit-Voting"
      ]
    },
    {
      "cell_type": "code",
      "metadata": {
        "id": "0_7FKoIY1Nij",
        "colab_type": "code",
        "colab": {}
      },
      "source": [
        "## Mount Google Drive for easy and fast read/write access to data folder \n",
        "#from google.colab import drive\n",
        "#drive.mount('/content/drive')\n",
        "#datapath = \"/content/drive/My Drive/Colab Notebooks/data/\""
      ],
      "execution_count": 0,
      "outputs": []
    },
    {
      "cell_type": "code",
      "metadata": {
        "id": "NjIUEKxGREZW",
        "colab_type": "code",
        "colab": {}
      },
      "source": [
        "# For demonstration purposes, pull data from webserver instead\n",
        "datapath = \"http://priebe.onl/data/\""
      ],
      "execution_count": 0,
      "outputs": []
    },
    {
      "cell_type": "code",
      "metadata": {
        "id": "BzCG40_zgxJB",
        "colab_type": "code",
        "outputId": "006af875-7bca-4e98-fc1c-e1b1da9a291b",
        "colab": {
          "base_uri": "https://localhost:8080/",
          "height": 195
        }
      },
      "source": [
        "import pandas as pd  \n",
        "\n",
        "df = pd.read_csv(datapath+\"brexit.csv\",usecols=[0,1,3,11])\n",
        "df.head()"
      ],
      "execution_count": 6,
      "outputs": [
        {
          "output_type": "execute_result",
          "data": {
            "text/html": [
              "<div>\n",
              "<style scoped>\n",
              "    .dataframe tbody tr th:only-of-type {\n",
              "        vertical-align: middle;\n",
              "    }\n",
              "\n",
              "    .dataframe tbody tr th {\n",
              "        vertical-align: top;\n",
              "    }\n",
              "\n",
              "    .dataframe thead th {\n",
              "        text-align: right;\n",
              "    }\n",
              "</style>\n",
              "<table border=\"1\" class=\"dataframe\">\n",
              "  <thead>\n",
              "    <tr style=\"text-align: right;\">\n",
              "      <th></th>\n",
              "      <th>id</th>\n",
              "      <th>created_at</th>\n",
              "      <th>text</th>\n",
              "      <th>entities_hashtags_text</th>\n",
              "    </tr>\n",
              "  </thead>\n",
              "  <tbody>\n",
              "    <tr>\n",
              "      <th>0</th>\n",
              "      <td>736284933686239233</td>\n",
              "      <td>2016-05-27T19:56:22</td>\n",
              "      <td>@FXdestination @lynn_weiser Those who died to ...</td>\n",
              "      <td>brexit</td>\n",
              "    </tr>\n",
              "    <tr>\n",
              "      <th>1</th>\n",
              "      <td>736284905710211073</td>\n",
              "      <td>2016-05-27T19:56:15</td>\n",
              "      <td>THIS! Top swears. If 'bollocks' is good enough...</td>\n",
              "      <td>EUref|strongerin|brexit|brexin</td>\n",
              "    </tr>\n",
              "    <tr>\n",
              "      <th>2</th>\n",
              "      <td>736284877084065792</td>\n",
              "      <td>2016-05-27T19:56:08</td>\n",
              "      <td>dont the scots understand that joining the lea...</td>\n",
              "      <td>Brexit|VoteRemain|VoteLeave</td>\n",
              "    </tr>\n",
              "    <tr>\n",
              "      <th>3</th>\n",
              "      <td>736284846151106563</td>\n",
              "      <td>2016-05-27T19:56:01</td>\n",
              "      <td>The vision from enslaved #Brexit Shut the door...</td>\n",
              "      <td>Brexit</td>\n",
              "    </tr>\n",
              "    <tr>\n",
              "      <th>4</th>\n",
              "      <td>736284840992092160</td>\n",
              "      <td>2016-05-27T19:56:00</td>\n",
              "      <td>It isn't all about GDP and jobs. We will adapt...</td>\n",
              "      <td>Brexit|EuRef</td>\n",
              "    </tr>\n",
              "  </tbody>\n",
              "</table>\n",
              "</div>"
            ],
            "text/plain": [
              "                   id  ...          entities_hashtags_text\n",
              "0  736284933686239233  ...                          brexit\n",
              "1  736284905710211073  ...  EUref|strongerin|brexit|brexin\n",
              "2  736284877084065792  ...     Brexit|VoteRemain|VoteLeave\n",
              "3  736284846151106563  ...                          Brexit\n",
              "4  736284840992092160  ...                    Brexit|EuRef\n",
              "\n",
              "[5 rows x 4 columns]"
            ]
          },
          "metadata": {
            "tags": []
          },
          "execution_count": 6
        }
      ]
    },
    {
      "cell_type": "code",
      "metadata": {
        "id": "Dq5Ne1tnL8Pr",
        "colab_type": "code",
        "outputId": "3175dea8-6168-47ce-d0f5-4acbd5e62daa",
        "colab": {
          "base_uri": "https://localhost:8080/",
          "height": 175
        }
      },
      "source": [
        "# There appear to be some tweets with no text, remove them and reset index\n",
        "df.dropna(inplace=True)\n",
        "df.reset_index(drop=True,inplace=True)\n",
        "df.info()"
      ],
      "execution_count": 0,
      "outputs": [
        {
          "output_type": "stream",
          "text": [
            "<class 'pandas.core.frame.DataFrame'>\n",
            "RangeIndex: 865873 entries, 0 to 865872\n",
            "Data columns (total 4 columns):\n",
            "id                        865873 non-null int64\n",
            "created_at                865873 non-null object\n",
            "text                      865873 non-null object\n",
            "entities_hashtags_text    865873 non-null object\n",
            "dtypes: int64(1), object(3)\n",
            "memory usage: 26.4+ MB\n"
          ],
          "name": "stdout"
        }
      ]
    },
    {
      "cell_type": "code",
      "metadata": {
        "id": "AugSIsCjJBEL",
        "colab_type": "code",
        "colab": {}
      },
      "source": [
        "import re\n",
        "from bs4 import BeautifulSoup\n",
        "from nltk.tokenize import WordPunctTokenizer\n",
        "tok = WordPunctTokenizer()\n",
        "\n",
        "pat1 = r'@[A-Za-z0-9_]+'\n",
        "pat2 = r'https?://[^ ]+'\n",
        "combined_pat = r'|'.join((pat1, pat2))\n",
        "www_pat = r'www.[^ ]+'\n",
        "negations_dic = {\"isn't\":\"is not\", \"aren't\":\"are not\", \"wasn't\":\"was not\", \"weren't\":\"were not\",\n",
        "                \"haven't\":\"have not\",\"hasn't\":\"has not\",\"hadn't\":\"had not\",\"won't\":\"will not\",\n",
        "                \"wouldn't\":\"would not\", \"don't\":\"do not\", \"doesn't\":\"does not\",\"didn't\":\"did not\",\n",
        "                \"can't\":\"can not\",\"couldn't\":\"could not\",\"shouldn't\":\"should not\",\"mightn't\":\"might not\",\n",
        "                \"mustn't\":\"must not\"}\n",
        "neg_pattern = re.compile(r'\\b(' + '|'.join(negations_dic.keys()) + r')\\b')\n",
        "\n",
        "def tweet_cleaner_updated(text):\n",
        "    soup = BeautifulSoup(text, 'lxml')\n",
        "    souped = soup.get_text()\n",
        "    try:\n",
        "        bom_removed = souped.decode(\"utf-8-sig\").replace(u\"\\ufffd\", \"?\")\n",
        "    except:\n",
        "        bom_removed = souped\n",
        "    stripped = re.sub(combined_pat, '', bom_removed)\n",
        "    stripped = re.sub(www_pat, '', stripped)\n",
        "    lower_case = stripped.lower()\n",
        "    neg_handled = neg_pattern.sub(lambda x: negations_dic[x.group()], lower_case)\n",
        "    letters_only = re.sub(\"[^a-zA-Z]\", \" \", neg_handled)\n",
        "    # During the letters_only process two lines above, it has created unnecessay white spaces,\n",
        "    # I will tokenize and join together to remove unneccessary white spaces\n",
        "    words = [x for x  in tok.tokenize(letters_only) if len(x) > 1]\n",
        "    return (\" \".join(words)).strip()"
      ],
      "execution_count": 0,
      "outputs": []
    },
    {
      "cell_type": "code",
      "metadata": {
        "id": "tnFZS2lFJBEV",
        "colab_type": "code",
        "outputId": "35756816-b87c-4501-c8f7-d3b5b275bdce",
        "colab": {
          "base_uri": "https://localhost:8080/",
          "height": 228
        }
      },
      "source": [
        "%%time\n",
        "print(\"Cleaning the tweets...\\n\")\n",
        "clean_tweet_texts = []\n",
        "for i in range(0,len(df)):\n",
        "    if ((i+1)%100000 == 0 ):\n",
        "        print(\"Tweets %d of %d has been processed\" % (i+1, len(df)))\n",
        "    clean_tweet_texts.append(tweet_cleaner_updated(df['text'][i]))"
      ],
      "execution_count": 0,
      "outputs": [
        {
          "output_type": "stream",
          "text": [
            "Cleaning the tweets...\n",
            "\n",
            "Tweets 100000 of 865873 has been processed\n",
            "Tweets 200000 of 865873 has been processed\n",
            "Tweets 300000 of 865873 has been processed\n",
            "Tweets 400000 of 865873 has been processed\n",
            "Tweets 500000 of 865873 has been processed\n",
            "Tweets 600000 of 865873 has been processed\n",
            "Tweets 700000 of 865873 has been processed\n",
            "Tweets 800000 of 865873 has been processed\n",
            "CPU times: user 3min 46s, sys: 13.3 s, total: 3min 59s\n",
            "Wall time: 3min 59s\n"
          ],
          "name": "stdout"
        }
      ]
    },
    {
      "cell_type": "code",
      "metadata": {
        "id": "Wj1mYiRbJBEZ",
        "colab_type": "code",
        "outputId": "c8db415f-474e-4ff1-9c7b-1577726a2e91",
        "colab": {
          "base_uri": "https://localhost:8080/",
          "height": 195
        }
      },
      "source": [
        "clean_df = pd.DataFrame(clean_tweet_texts,columns=['text'])\n",
        "clean_df['id'] = df['id']\n",
        "clean_df['created'] = df['created_at']\n",
        "clean_df['hashtags'] = df['entities_hashtags_text'].str.casefold()\n",
        "\n",
        "# Remove rows with empty text (after cleaning) and reset index\n",
        "clean_df = clean_df.loc[clean_df['text'] != \"\"]\n",
        "clean_df.reset_index(drop=True,inplace=True)\n",
        "\n",
        "clean_df.head()"
      ],
      "execution_count": 0,
      "outputs": [
        {
          "output_type": "execute_result",
          "data": {
            "text/html": [
              "<div>\n",
              "<style scoped>\n",
              "    .dataframe tbody tr th:only-of-type {\n",
              "        vertical-align: middle;\n",
              "    }\n",
              "\n",
              "    .dataframe tbody tr th {\n",
              "        vertical-align: top;\n",
              "    }\n",
              "\n",
              "    .dataframe thead th {\n",
              "        text-align: right;\n",
              "    }\n",
              "</style>\n",
              "<table border=\"1\" class=\"dataframe\">\n",
              "  <thead>\n",
              "    <tr style=\"text-align: right;\">\n",
              "      <th></th>\n",
              "      <th>text</th>\n",
              "      <th>id</th>\n",
              "      <th>created</th>\n",
              "      <th>hashtags</th>\n",
              "    </tr>\n",
              "  </thead>\n",
              "  <tbody>\n",
              "    <tr>\n",
              "      <th>0</th>\n",
              "      <td>those who died to protect democracy will be ro...</td>\n",
              "      <td>736284933686239233</td>\n",
              "      <td>2016-05-27T19:56:22</td>\n",
              "      <td>brexit</td>\n",
              "    </tr>\n",
              "    <tr>\n",
              "      <th>1</th>\n",
              "      <td>this top swears if bollocks is good enough for...</td>\n",
              "      <td>736284905710211073</td>\n",
              "      <td>2016-05-27T19:56:15</td>\n",
              "      <td>euref|strongerin|brexit|brexin</td>\n",
              "    </tr>\n",
              "    <tr>\n",
              "      <th>2</th>\n",
              "      <td>dont the scots understand that joining the lea...</td>\n",
              "      <td>736284877084065792</td>\n",
              "      <td>2016-05-27T19:56:08</td>\n",
              "      <td>brexit|voteremain|voteleave</td>\n",
              "    </tr>\n",
              "    <tr>\n",
              "      <th>3</th>\n",
              "      <td>the vision from enslaved brexit shut the door ...</td>\n",
              "      <td>736284846151106563</td>\n",
              "      <td>2016-05-27T19:56:01</td>\n",
              "      <td>brexit</td>\n",
              "    </tr>\n",
              "    <tr>\n",
              "      <th>4</th>\n",
              "      <td>it is not all about gdp and jobs we will adapt...</td>\n",
              "      <td>736284840992092160</td>\n",
              "      <td>2016-05-27T19:56:00</td>\n",
              "      <td>brexit|euref</td>\n",
              "    </tr>\n",
              "  </tbody>\n",
              "</table>\n",
              "</div>"
            ],
            "text/plain": [
              "                                                text  ...                        hashtags\n",
              "0  those who died to protect democracy will be ro...  ...                          brexit\n",
              "1  this top swears if bollocks is good enough for...  ...  euref|strongerin|brexit|brexin\n",
              "2  dont the scots understand that joining the lea...  ...     brexit|voteremain|voteleave\n",
              "3  the vision from enslaved brexit shut the door ...  ...                          brexit\n",
              "4  it is not all about gdp and jobs we will adapt...  ...                    brexit|euref\n",
              "\n",
              "[5 rows x 4 columns]"
            ]
          },
          "metadata": {
            "tags": []
          },
          "execution_count": 6
        }
      ]
    },
    {
      "cell_type": "code",
      "metadata": {
        "id": "54rv141jZhOf",
        "colab_type": "code",
        "outputId": "06dcb6b9-3936-4865-f0fd-f3bca9e4ac46",
        "colab": {
          "base_uri": "https://localhost:8080/",
          "height": 175
        }
      },
      "source": [
        "#clean_df.to_csv(datapath+'brexit_cleaned.csv',encoding='utf-8',index=False)\n",
        "clean_df.info()"
      ],
      "execution_count": 0,
      "outputs": [
        {
          "output_type": "stream",
          "text": [
            "<class 'pandas.core.frame.DataFrame'>\n",
            "RangeIndex: 865549 entries, 0 to 865548\n",
            "Data columns (total 4 columns):\n",
            "text        865549 non-null object\n",
            "id          865549 non-null int64\n",
            "created     865549 non-null object\n",
            "hashtags    865549 non-null object\n",
            "dtypes: int64(1), object(3)\n",
            "memory usage: 26.4+ MB\n"
          ],
          "name": "stdout"
        }
      ]
    }
  ]
}